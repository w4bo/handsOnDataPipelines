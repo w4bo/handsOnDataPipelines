{
 "cells": [
  {
   "cell_type": "markdown",
   "id": "4ae284be",
   "metadata": {},
   "source": [
    "# Data preprocessing\n",
    "\n",
    "Pandas is the shorthand for 'Python and Data Analysis'. It provides a rich set of features for exploring and manipulating data, making it the go-to toolkit for a lot of data scientists.\n",
    "\n",
    "Check also: https://pandas.pydata.org/"
   ]
  },
  {
   "cell_type": "code",
   "execution_count": null,
   "id": "3932b785",
   "metadata": {
    "scrolled": false
   },
   "outputs": [],
   "source": [
    "import numpy as np\n",
    "import pandas as pd\n",
    "print(pd.__version__)"
   ]
  },
  {
   "cell_type": "markdown",
   "id": "0451be9e",
   "metadata": {},
   "source": [
    "Creating some pandas series..."
   ]
  },
  {
   "cell_type": "code",
   "execution_count": null,
   "id": "205a800c",
   "metadata": {},
   "outputs": [],
   "source": [
    "ser_a = pd.Series([1, 2, 3, 4], index=[\"a\", \"b\", \"c\", \"d\"])\n",
    "ser_b = pd.Series([1, 2, 3, 4], index=[\"b\", \"a\", \"c\", \"d\"])\n",
    "\n",
    "ser_a + ser_b"
   ]
  },
  {
   "cell_type": "markdown",
   "id": "4fbe3136",
   "metadata": {},
   "source": [
    "... doing some element-wise operations"
   ]
  },
  {
   "cell_type": "code",
   "execution_count": null,
   "id": "50a5bde6",
   "metadata": {},
   "outputs": [],
   "source": [
    "ser_a + ser_b\n",
    "ser_a - ser_b\n",
    "ser_a * ser_b\n",
    "ser_a / ser_b"
   ]
  },
  {
   "cell_type": "markdown",
   "id": "2dfc9af7",
   "metadata": {},
   "source": [
    "... doing some aggregation "
   ]
  },
  {
   "cell_type": "code",
   "execution_count": null,
   "id": "b2c64c8e",
   "metadata": {},
   "outputs": [],
   "source": [
    "ser_c = pd.Series([1, np.nan, 3, 4], index=[\"a\", \"b\", \"c\", \"d\"])\n",
    "print(ser_c.dtype)               # Which dtype has `ser_c`?\n",
    "\n",
    "ser_c.count()             # => 3\n",
    "ser_c.sum()               # => 8\n",
    "ser_c.mean()              # => 2.67\n",
    "ser_c.mean(skipna=False)  # => nan\n",
    "ser_c.max()               # => 4\n",
    "ser_c.min()               # => 1\n",
    "ser_c.idxmax()            # => \"d\"\n",
    "\n",
    "ser_d = pd.Series([1, \"a\", 3, 4], index=[\"a\", \"b\", \"c\", \"d\"])\n",
    "print(ser_d.dtype)        # which dtype has `ser_d`?\n",
    "\n",
    "ser_e = pd.Series([1, 1, 1, np.nan, 3, 4])\n",
    "ser_e"
   ]
  },
  {
   "cell_type": "markdown",
   "id": "6e3c0fec",
   "metadata": {},
   "source": [
    "Cheking unique values"
   ]
  },
  {
   "cell_type": "code",
   "execution_count": null,
   "id": "bff9fa20",
   "metadata": {},
   "outputs": [],
   "source": [
    "ser_e.unique() # => [ 1., nan,  3.,  4.]\n",
    "ser_e.nunique() # => 3\n",
    "ser_e.value_counts()"
   ]
  },
  {
   "cell_type": "code",
   "execution_count": null,
   "id": "a1d99dac",
   "metadata": {},
   "outputs": [],
   "source": [
    "ser_e.hist(bins=10)"
   ]
  },
  {
   "cell_type": "markdown",
   "id": "5f608753",
   "metadata": {},
   "source": [
    "Checking null values"
   ]
  },
  {
   "cell_type": "code",
   "execution_count": null,
   "id": "5c2f6e66",
   "metadata": {},
   "outputs": [],
   "source": [
    "df = pd.DataFrame() # create an empty dataframe\n",
    "df[\"ser_e\"] = ser_e # add the column \"ser_e\"\n",
    "df[\"isna\"] = ser_e.isna() # add the column \"isna\", True if the value is NaN\n",
    "df[\"notna\"] = ser_e.notna() # add the column \"notna\", False if the value is NaN\n",
    "df"
   ]
  },
  {
   "cell_type": "code",
   "execution_count": null,
   "id": "fba624ad",
   "metadata": {},
   "outputs": [],
   "source": [
    "ser_e.mean() # the mean is 2\n",
    "# fill the missing value with the average\n",
    "df[\"mean\"] = ser_e.fillna(ser_e.mean())\n",
    "df"
   ]
  },
  {
   "cell_type": "code",
   "execution_count": null,
   "id": "06d6b70f",
   "metadata": {
    "scrolled": true
   },
   "outputs": [],
   "source": [
    "# fill the missing value with the previous (not NaN) value\n",
    "df[\"ffill\"] = ser_e.fillna(method=\"ffill\")\n",
    "df"
   ]
  },
  {
   "cell_type": "code",
   "execution_count": null,
   "id": "0e8f5d63",
   "metadata": {
    "scrolled": true
   },
   "outputs": [],
   "source": [
    "# fill the missing value with the following (not NaN) value\n",
    "df[\"bfill\"] = ser_e.fillna(method=\"bfill\")\n",
    "df"
   ]
  },
  {
   "cell_type": "code",
   "execution_count": null,
   "id": "1aebd691",
   "metadata": {
    "scrolled": true
   },
   "outputs": [],
   "source": [
    "ser_e.dropna()"
   ]
  },
  {
   "cell_type": "markdown",
   "id": "41e9895a",
   "metadata": {},
   "source": [
    "Creating pandas dataframes"
   ]
  },
  {
   "cell_type": "code",
   "execution_count": null,
   "id": "20628a6f",
   "metadata": {},
   "outputs": [],
   "source": [
    "# create a dataframe with random data\n",
    "import random\n",
    "random.seed(3)\n",
    "df = pd.DataFrame([[random.randint(0, 9) for i in range(10)] for i in range(5)],\n",
    "                  index=[i for i in range(5)], \n",
    "                  columns=list('abcdefghij'))\n",
    "df"
   ]
  },
  {
   "cell_type": "markdown",
   "id": "17382ff5",
   "metadata": {},
   "source": [
    "Doing some operations with pandas dataframes"
   ]
  },
  {
   "cell_type": "code",
   "execution_count": null,
   "id": "3dba1b0f",
   "metadata": {},
   "outputs": [],
   "source": [
    "# Select a column (i.e., a series)\n",
    "df['a']\n",
    "\n",
    "# Add another column\n",
    "df['k'] = df['a'] * df['b']\n",
    "\n",
    "# Get the headers (i.e., the column names)\n",
    "df.columns\n",
    "\n",
    "# Get just the first two rows\n",
    "df.head(2)\n",
    "\n",
    "# Get just the last two rows\n",
    "df.tail(2)\n",
    "\n",
    "# Sort the dataframe by columns\n",
    "df.sort_values(by=['a', 'b'], ascending=[False, True])\n",
    "\n",
    "# To get some statistics (e.g., count, mean, std, min, etc.)\n",
    "df.describe()"
   ]
  },
  {
   "cell_type": "markdown",
   "id": "cad18c8a",
   "metadata": {},
   "source": [
    "Why is the `mean` around 4.0 and 5.0?"
   ]
  },
  {
   "cell_type": "markdown",
   "id": "4d876ba7",
   "metadata": {},
   "source": [
    "#### Real dataset\n",
    "\n",
    "Importing the data from a csv file.\n",
    "Check also: https://www.kaggle.com/camnugent/california-housing-prices\n",
    "\n",
    "The data contains information from the 1990 California census. It does provide an accessible introductory dataset for teaching people about the basics of machine learning.\n",
    "\n",
    "From https://www.oreilly.com/library/view/hands-on-machine-learning/9781492032632/\n",
    "- This data has metrics such as the population, median income, median housing price, and so on for each block group in California.\n",
    "- Block groups are the smallest geographical unit for which the US Census Bureau publishes sample data (a block group typically has a population of 600 to 3,000 people). We will just call them “districts” for short\n",
    "- The goal is to build a model to predict the median housing price in any district, given all the other metrics"
   ]
  },
  {
   "cell_type": "code",
   "execution_count": null,
   "id": "80970f2e",
   "metadata": {},
   "outputs": [],
   "source": [
    "df = pd.read_csv(\"datasets/housing.csv\", delimiter=\",\")\n",
    "df"
   ]
  },
  {
   "cell_type": "markdown",
   "id": "bb614d01",
   "metadata": {},
   "source": [
    "Dataset description\n",
    "\n",
    "1. `longitude`: A measure of how far west a house is; a higher value is farther west\n",
    "2. `latitude`: A measure of how far north a house is; a higher value is farther north\n",
    "3. `housingMedianAge`: Median age of a house within a block; a lower number is a newer building\n",
    "4. `totalRooms`: Total number of rooms within a block\n",
    "5. `totalBedrooms`: Total number of bedrooms within a block\n",
    "6. `population`: Total number of people residing within a block\n",
    "7. `households`: Total number of households, a group of people residing within a home unit, for a block\n",
    "8. `medianIncome`: Median income for households within a block of houses (measured in tens of thousands of US Dollars)\n",
    "9. `medianHouseValue`: Median house value for households within a block (measured in US Dollars)\n",
    "10. `oceanProximity`: Location of the house w.r.t ocean/sea"
   ]
  },
  {
   "cell_type": "code",
   "execution_count": null,
   "id": "85441c0b",
   "metadata": {
    "scrolled": true
   },
   "outputs": [],
   "source": [
    "df.info() # show some statistics on the dataframe"
   ]
  },
  {
   "cell_type": "markdown",
   "id": "048cadf1",
   "metadata": {},
   "source": [
    "#### Memory usage\n",
    "\n",
    "What if I change float64 to float32?"
   ]
  },
  {
   "cell_type": "code",
   "execution_count": null,
   "id": "8f1e7c90",
   "metadata": {},
   "outputs": [],
   "source": [
    "dff = df.copy(deep=True) # copy the dataframe\n",
    "for x in df.columns: # iterate over the columns\n",
    "    if dff[x].dtype == 'float64': # if the column has type `float64`\n",
    "        dff[x] = dff[x].astype('float32') # ... change it to `float32`\n",
    "dff.info() # show some statistics on the dataframe"
   ]
  },
  {
   "cell_type": "code",
   "execution_count": null,
   "id": "e6a24b3a",
   "metadata": {},
   "outputs": [],
   "source": [
    "df.describe()"
   ]
  },
  {
   "cell_type": "markdown",
   "id": "2ef54881",
   "metadata": {},
   "source": [
    "#### Missing values\n",
    "There are some missing values for `total_bedrooms`. What should we do?\n",
    "\n",
    "Most Machine Learning algorithms cannot work with missing features. We have three options:\n",
    "- Get rid of the corresponding districts (i.e., drop the rows)\n",
    "    - `df.dropna(subset=[\"total_bedrooms\"])`\n",
    "- Get rid of the whole attribute (i.e., drop the columns)\n",
    "    - `df.drop(\"total_bedrooms\", axis=1`\n",
    "- Set the values to some value (zero, the mean, the median, etc.)\n",
    "    - `df[\"total_bedrooms\"].fillna(df[\"total_bedrooms\"].median())`"
   ]
  },
  {
   "cell_type": "markdown",
   "id": "ef1d868f",
   "metadata": {},
   "source": [
    "#### Non-numeric attributes\n",
    "`ocean_proximity` is a text attribute so we cannot compute its median. Some options:\n",
    "- Get rid of the whole attribute. (`df.drop(\"ocean_proximity\", axis=1`)\n",
    "- Change from categorical to ordinal (e.g., `NEAR BAY` = 0, `INLAND` = 1)\n",
    "    - Can foresee any problem in this?\n",
    "    - ML algorithms will assume that two nearby values are more similar than two distant values. This may be fine in some cases (e.g., for ordered categories such as “bad”, “average”, “good”, “excellent”), but it is obviously not the case for the ocean_proximity column (for example, categories 0 and 4 are clearly more similar than categories 0 and 1). \n",
    "- Change from categorical to one hot encoding\n",
    "    - To fix this issue, a common solution is to create one binary attribute per category: one attribute equal to 1 when the category is “<1H OCEAN” (and 0 otherwise), another attribute equal to 1 when the category is “INLAND” (and 0 otherwise), and so on. This is called one-hot encoding, because only one attribute will be equal to 1 (hot), while the others will be 0 (cold). The new attributes are sometimes called dummy attributes"
   ]
  },
  {
   "cell_type": "code",
   "execution_count": null,
   "id": "3297de8e",
   "metadata": {},
   "outputs": [],
   "source": [
    "df[\"ocean_proximity\"].value_counts()"
   ]
  },
  {
   "cell_type": "markdown",
   "id": "8d0ee037",
   "metadata": {},
   "source": [
    "Change from categorical to ordinal"
   ]
  },
  {
   "cell_type": "code",
   "execution_count": null,
   "id": "0efd3a04",
   "metadata": {},
   "outputs": [],
   "source": [
    "from sklearn.preprocessing import OrdinalEncoder\n",
    "ordinal_encoder = OrdinalEncoder()\n",
    "y = ordinal_encoder.fit_transform(df[[\"ocean_proximity\"]])\n",
    "y"
   ]
  },
  {
   "cell_type": "markdown",
   "id": "fe14dd8c",
   "metadata": {},
   "source": [
    "From categorical to one-hot encoding"
   ]
  },
  {
   "cell_type": "code",
   "execution_count": null,
   "id": "d3db3bf4",
   "metadata": {},
   "outputs": [],
   "source": [
    "y = pd.get_dummies(df[\"ocean_proximity\"], prefix='ocean_proximity')\n",
    "y"
   ]
  },
  {
   "cell_type": "markdown",
   "id": "4969d930",
   "metadata": {},
   "source": [
    "### Visualization\n",
    "\n",
    "Visualizing attribute distributions"
   ]
  },
  {
   "cell_type": "code",
   "execution_count": null,
   "id": "570f14ff",
   "metadata": {
    "scrolled": true
   },
   "outputs": [],
   "source": [
    "%matplotlib inline\n",
    "import matplotlib.pyplot as plt\n",
    "df.hist(bins=50, figsize=(20,15))\n",
    "plt.show()"
   ]
  },
  {
   "cell_type": "markdown",
   "id": "5ddb3f44",
   "metadata": {},
   "source": [
    "Open questions:\n",
    "\n",
    "- `median_income` should be in dollars. However, it has a strange range. Why? \"you are told that the data has been scaled and capped at 15 (actually 15.0001) for higher median incomes, and at 0.5 (actually 0.4999) for lower median incomes. The numbers represent roughly tens of thousands of dollars. The numbers represent roughly tens of thousands of dollars\"\n",
    "- `housing_median_age` and `median_house_value` are capped. As to `median_house_value`, this is a serious problem since it is your target attribute (your labels). Your Machine Learning algorithms may learn that prices never go beyond that limit. You need to check with your client team (the team that will use your system’s output) to see if this is a problem or not. If they tell you that they need precise predictions even beyond 500,000USD, then you have mainly two options: (a) collect proper labels for the districts whose labels were capped, (b) remove those districts from the training set.\"\n",
    "- These attributes have very different scales. Should we scale them?\n",
    "- Many histograms are tail heavy: they extend much farther to the right of the median than to the left. This may make it a bit harder for some Machine Learning algorithms to detect patterns"
   ]
  },
  {
   "cell_type": "markdown",
   "id": "69801a8d",
   "metadata": {},
   "source": [
    "#### Scaling attributes\n",
    "\n",
    "Attributes have very different scales. Should we scale them?\n",
    "\n",
    "\n",
    "- Normalization is good to use when you know that the distribution of your data does not follow a Gaussian distribution. This can be useful in algorithms that do not assume any distribution of the data like K-Nearest Neighbors and Neural Networks.\n",
    "- Standardization, on the other hand, can be helpful in cases where the data follows a Gaussian distribution. However, this does not have to be necessarily true. Unlike normalization, standardization does not have a bounding range. So, even if you have outliers in your data, they will not be affected by standardization.\n"
   ]
  },
  {
   "cell_type": "markdown",
   "id": "e312e6b6",
   "metadata": {},
   "source": [
    "#### Min-max normalization"
   ]
  },
  {
   "cell_type": "code",
   "execution_count": null,
   "id": "e6974275",
   "metadata": {},
   "outputs": [],
   "source": [
    "num_df = df.drop(columns=['ocean_proximity', 'median_house_value'])\n",
    "normalized_df = (num_df - num_df.min()) / (num_df.max() - num_df.min())\n",
    "normalized_df"
   ]
  },
  {
   "cell_type": "markdown",
   "id": "0195d8f8",
   "metadata": {},
   "source": [
    "#### Standardization"
   ]
  },
  {
   "cell_type": "code",
   "execution_count": null,
   "id": "39239dcf",
   "metadata": {},
   "outputs": [],
   "source": [
    "num_df = df.drop(columns=['ocean_proximity', 'median_house_value'])\n",
    "normalized_df = (num_df - num_df.mean()) / num_df.std()\n",
    "normalized_df"
   ]
  },
  {
   "cell_type": "markdown",
   "id": "681562cb",
   "metadata": {},
   "source": [
    "#### Hands on!"
   ]
  },
  {
   "cell_type": "code",
   "execution_count": null,
   "id": "ef4ed12b",
   "metadata": {},
   "outputs": [],
   "source": [
    "num_df = df.copy(deep=True).drop(columns=[\"ocean_proximity\"]) # do not change this line\n",
    "\n",
    "# Filling in (i.e., impute) missing values with the median value \n",
    "num_df[\"total_bedrooms\"] = 1 # change `1` with the proper solution \n",
    "\n",
    "# Add a new column: population_per_household = population / households\n",
    "num_df[\"population_per_household\"] = 1 # change `1` with the proper solution \n",
    "\n",
    "# Add a new column: rooms_per_household = total_rooms / households\n",
    "num_df[\"rooms_per_household\"] = 1 # change `1` with the proper solution \n",
    "\n",
    "# Add a new column: bedrooms_per_room = total_bedrooms / total_rooms\n",
    "num_df[\"bedrooms_per_room\"] = 1 # change `1` with the proper solution \n",
    "\n",
    "# Apply standardization to all the numeric columns\n",
    "num_df = pd.DataFrame() # change `pd.DataFrame()` with the proper solution \n",
    "\n",
    "# One hot encode `ocean_proximity` since it is a categorical attribute \n",
    "cat_df = pd.DataFrame() # change `pd.DataFrame()` with the proper solution (hint: pd.get_dummies)\n",
    "\n",
    "clean_df = pd.concat([num_df, cat_df], axis=1) # do not change this line\n",
    "clean_df"
   ]
  }
 ],
 "metadata": {
  "kernelspec": {
   "display_name": "Python 3 (ipykernel)",
   "language": "python",
   "name": "python3"
  },
  "language_info": {
   "codemirror_mode": {
    "name": "ipython",
    "version": 3
   },
   "file_extension": ".py",
   "mimetype": "text/x-python",
   "name": "python",
   "nbconvert_exporter": "python",
   "pygments_lexer": "ipython3",
   "version": "3.8.11"
  }
 },
 "nbformat": 4,
 "nbformat_minor": 5
}
