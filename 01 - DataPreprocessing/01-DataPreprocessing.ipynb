{
 "cells": [
  {
   "cell_type": "markdown",
   "id": "2716f3a9",
   "metadata": {},
   "source": [
    "Pandas is the shorthand for 'Python and Data Analysis'. It provides a rich set of features for exploring and manipulating data, making it the go-to toolkit for a lot of data scientists."
   ]
  },
  {
   "cell_type": "code",
   "execution_count": 1,
   "id": "c28f2fb0",
   "metadata": {
    "scrolled": false
   },
   "outputs": [
    {
     "name": "stdout",
     "output_type": "stream",
     "text": [
      "1.1.5\n"
     ]
    }
   ],
   "source": [
    "import numpy as np\n",
    "import pandas as pd\n",
    "print(pd.__version__)"
   ]
  },
  {
   "cell_type": "markdown",
   "id": "3a97ff67",
   "metadata": {},
   "source": [
    "Creating some pandas series..."
   ]
  },
  {
   "cell_type": "code",
   "execution_count": 2,
   "id": "f26d094a",
   "metadata": {},
   "outputs": [
    {
     "data": {
      "text/plain": [
       "a    3\n",
       "b    3\n",
       "c    6\n",
       "d    8\n",
       "dtype: int64"
      ]
     },
     "execution_count": 2,
     "metadata": {},
     "output_type": "execute_result"
    }
   ],
   "source": [
    "ser_a = pd.Series([1, 2, 3, 4], index=[\"a\", \"b\", \"c\", \"d\"])\n",
    "ser_b = pd.Series([1, 2, 3, 4], index=[\"b\", \"a\", \"c\", \"d\"])\n",
    "\n",
    "ser_a + ser_b"
   ]
  },
  {
   "cell_type": "markdown",
   "id": "b3284a3f",
   "metadata": {},
   "source": [
    "... doing some element-wise operations"
   ]
  },
  {
   "cell_type": "code",
   "execution_count": 3,
   "id": "afa4d898",
   "metadata": {},
   "outputs": [
    {
     "data": {
      "text/plain": [
       "a    0.5\n",
       "b    2.0\n",
       "c    1.0\n",
       "d    1.0\n",
       "dtype: float64"
      ]
     },
     "execution_count": 3,
     "metadata": {},
     "output_type": "execute_result"
    }
   ],
   "source": [
    "ser_a + ser_b\n",
    "ser_a - ser_b\n",
    "ser_a * ser_b\n",
    "ser_a / ser_b"
   ]
  },
  {
   "cell_type": "markdown",
   "id": "cadfa03f",
   "metadata": {},
   "source": [
    "... doing some aggregated operations "
   ]
  },
  {
   "cell_type": "code",
   "execution_count": 4,
   "id": "bf2b7da4",
   "metadata": {},
   "outputs": [
    {
     "name": "stdout",
     "output_type": "stream",
     "text": [
      "float64\n",
      "object\n"
     ]
    },
    {
     "data": {
      "text/plain": [
       "0    1.0\n",
       "1    1.0\n",
       "2    1.0\n",
       "3    NaN\n",
       "4    3.0\n",
       "5    4.0\n",
       "dtype: float64"
      ]
     },
     "execution_count": 4,
     "metadata": {},
     "output_type": "execute_result"
    }
   ],
   "source": [
    "ser_c = pd.Series([1, np.nan, 3, 4], index=[\"a\", \"b\", \"c\", \"d\"])\n",
    "print(ser_c.dtype)               # Which dtype has `ser_c`?\n",
    "\n",
    "ser_c.count()             # => 3\n",
    "ser_c.sum()               # => 8\n",
    "ser_c.mean()              # => 2.67\n",
    "ser_c.mean(skipna=False)  # => nan\n",
    "ser_c.max()               # => 4\n",
    "ser_c.min()               # => 1\n",
    "ser_c.idxmax()            # => \"d\"\n",
    "\n",
    "ser_d = pd.Series([1, \"a\", 3, 4], index=[\"a\", \"b\", \"c\", \"d\"])\n",
    "print(ser_d.dtype)        # which dtype has `ser_d`?\n",
    "\n",
    "ser_e = pd.Series([1, 1, 1, np.nan, 3, 4])\n",
    "ser_e"
   ]
  },
  {
   "cell_type": "markdown",
   "id": "49dc14d6",
   "metadata": {},
   "source": [
    "Cheking unique values"
   ]
  },
  {
   "cell_type": "code",
   "execution_count": 5,
   "id": "3605b7fa",
   "metadata": {},
   "outputs": [
    {
     "data": {
      "text/plain": [
       "1.0    3\n",
       "4.0    1\n",
       "3.0    1\n",
       "dtype: int64"
      ]
     },
     "execution_count": 5,
     "metadata": {},
     "output_type": "execute_result"
    }
   ],
   "source": [
    "ser_e.unique() # => [ 1., nan,  3.,  4.]\n",
    "ser_e.nunique() # => 3\n",
    "ser_e.value_counts()"
   ]
  },
  {
   "cell_type": "markdown",
   "id": "d4aa82ab",
   "metadata": {},
   "source": [
    "Checking null values"
   ]
  },
  {
   "cell_type": "code",
   "execution_count": 6,
   "id": "2363b72b",
   "metadata": {},
   "outputs": [
    {
     "data": {
      "text/plain": [
       "0    False\n",
       "1    False\n",
       "2    False\n",
       "3     True\n",
       "4    False\n",
       "5    False\n",
       "dtype: bool"
      ]
     },
     "execution_count": 6,
     "metadata": {},
     "output_type": "execute_result"
    }
   ],
   "source": [
    "ser_e.isna()"
   ]
  },
  {
   "cell_type": "code",
   "execution_count": 7,
   "id": "abce220b",
   "metadata": {},
   "outputs": [
    {
     "data": {
      "text/plain": [
       "0     True\n",
       "1     True\n",
       "2     True\n",
       "3    False\n",
       "4     True\n",
       "5     True\n",
       "dtype: bool"
      ]
     },
     "execution_count": 7,
     "metadata": {},
     "output_type": "execute_result"
    }
   ],
   "source": [
    "ser_e.notna()"
   ]
  },
  {
   "cell_type": "code",
   "execution_count": 8,
   "id": "5b555b5c",
   "metadata": {},
   "outputs": [
    {
     "data": {
      "text/plain": [
       "0    1.0\n",
       "1    1.0\n",
       "2    1.0\n",
       "4    3.0\n",
       "5    4.0\n",
       "dtype: float64"
      ]
     },
     "execution_count": 8,
     "metadata": {},
     "output_type": "execute_result"
    }
   ],
   "source": [
    "ser_e.dropna()"
   ]
  },
  {
   "cell_type": "code",
   "execution_count": 9,
   "id": "61732277",
   "metadata": {},
   "outputs": [
    {
     "data": {
      "text/plain": [
       "0    1.0\n",
       "1    1.0\n",
       "2    1.0\n",
       "3    2.0\n",
       "4    3.0\n",
       "5    4.0\n",
       "dtype: float64"
      ]
     },
     "execution_count": 9,
     "metadata": {},
     "output_type": "execute_result"
    }
   ],
   "source": [
    "ser_e.fillna(ser_e.mean())"
   ]
  },
  {
   "cell_type": "code",
   "execution_count": 10,
   "id": "13313942",
   "metadata": {
    "scrolled": true
   },
   "outputs": [
    {
     "data": {
      "text/plain": [
       "0    1.0\n",
       "1    1.0\n",
       "2    1.0\n",
       "3    1.0\n",
       "4    3.0\n",
       "5    4.0\n",
       "dtype: float64"
      ]
     },
     "execution_count": 10,
     "metadata": {},
     "output_type": "execute_result"
    }
   ],
   "source": [
    "ser_e.fillna(method=\"ffill\")"
   ]
  },
  {
   "cell_type": "code",
   "execution_count": 11,
   "id": "6cba7ae0",
   "metadata": {},
   "outputs": [
    {
     "data": {
      "text/plain": [
       "0    1.0\n",
       "1    1.0\n",
       "2    1.0\n",
       "3    3.0\n",
       "4    3.0\n",
       "5    4.0\n",
       "dtype: float64"
      ]
     },
     "execution_count": 11,
     "metadata": {},
     "output_type": "execute_result"
    }
   ],
   "source": [
    "ser_e.fillna(method=\"bfill\")"
   ]
  }
 ],
 "metadata": {
  "kernelspec": {
   "display_name": "Python 3",
   "language": "python",
   "name": "python3"
  },
  "language_info": {
   "codemirror_mode": {
    "name": "ipython",
    "version": 3
   },
   "file_extension": ".py",
   "mimetype": "text/x-python",
   "name": "python",
   "nbconvert_exporter": "python",
   "pygments_lexer": "ipython3",
   "version": "3.6.4"
  }
 },
 "nbformat": 4,
 "nbformat_minor": 5
}
