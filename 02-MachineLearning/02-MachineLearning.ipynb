{
 "cells": [
  {
   "cell_type": "markdown",
   "id": "4ae284be",
   "metadata": {},
   "source": [
    "scikit-learn, Machine Learning in Python\n",
    "- Simple and efficient tools for predictive data analysis\n",
    "- Accessible to everybody, and reusable in various contexts\n",
    "- Built on NumPy, SciPy, and matplotlib\n",
    "- Open source, commercially usable - BSD license\n",
    "\n",
    "\n",
    "Check also: \n",
    "- https://scikit-learn.org/stable/index.html\n",
    "- https://scikit-learn.org/stable/modules/tree.html"
   ]
  },
  {
   "cell_type": "code",
   "execution_count": 1,
   "id": "3932b785",
   "metadata": {
    "scrolled": false
   },
   "outputs": [],
   "source": [
    "import numpy as np\n",
    "import pandas as pd\n",
    "import matplotlib.pyplot as plt\n",
    "from sklearn.metrics import mean_squared_error\n",
    "np.random.seed(42)"
   ]
  },
  {
   "cell_type": "markdown",
   "id": "0a45a8f4",
   "metadata": {},
   "source": [
    "Solution of the previous `Hands on`"
   ]
  },
  {
   "cell_type": "code",
   "execution_count": 2,
   "id": "87eb7c60",
   "metadata": {},
   "outputs": [],
   "source": [
    "def preprocess(normalize=True):\n",
    "    df = pd.read_csv(\"datasets/housing.csv\", delimiter=\",\")\n",
    "    \n",
    "    num_df = df.drop(columns=[\"ocean_proximity\", \"median_house_value\"])\n",
    "\n",
    "    # Filling in (i.e., impute) missing values with the median value \n",
    "    num_df[\"total_bedrooms\"] = num_df[\"total_bedrooms\"].fillna(num_df[\"total_bedrooms\"].median())\n",
    "\n",
    "    # Add a new column: population_per_household = population / households\n",
    "    num_df[\"population_per_household\"] = num_df[\"population\"] / num_df[\"households\"]\n",
    "\n",
    "    # Add a new column: rooms_per_household = total_rooms / households\n",
    "    num_df[\"rooms_per_household\"] = num_df[\"total_rooms\"] / num_df[\"households\"]\n",
    "\n",
    "    # Add a new column: bedrooms_per_room = total_bedrooms / total_rooms\n",
    "    num_df[\"bedrooms_per_room\"] = num_df[\"total_bedrooms\"] / num_df[\"total_rooms\"]\n",
    "\n",
    "    if normalize:\n",
    "        # Apply standardization to all the numeric columns\n",
    "        num_df = (num_df - num_df.mean()) / num_df.std()\n",
    "\n",
    "    # One hot encode `ocean_proximity` since it is a categorical attribute \n",
    "    cat_df = pd.get_dummies(df[\"ocean_proximity\"], prefix='ocean_proximity')\n",
    "\n",
    "    return pd.concat([num_df, cat_df, df[[\"median_house_value\"]]], axis=1) # do not change this line\n",
    "\n",
    "df = preprocess()"
   ]
  },
  {
   "cell_type": "markdown",
   "id": "1dc20801",
   "metadata": {},
   "source": [
    "For a supervised learning problem we need:\n",
    "- input data along with labels\n",
    "- split data between test and training set"
   ]
  },
  {
   "cell_type": "code",
   "execution_count": 3,
   "id": "21a9526a",
   "metadata": {},
   "outputs": [],
   "source": [
    "# For illustration only. Sklearn has train_test_split()\n",
    "def split_train_test(data, test_ratio):\n",
    "    shuffled_indices = np.random.permutation(len(data))\n",
    "    test_set_size = int(len(data) * test_ratio)\n",
    "    test_indices = shuffled_indices[:test_set_size]\n",
    "    train_indices = shuffled_indices[test_set_size:]\n",
    "    return data.iloc[train_indices], data.iloc[test_indices]\n",
    "\n",
    "df_train, df_test = split_train_test(df, 0.2)\n",
    "X_train = df_train.drop(columns=[\"median_house_value\"]).to_numpy()\n",
    "X_test  = df_test.drop(columns=[\"median_house_value\"]).to_numpy()\n",
    "y_train = df_train[\"median_house_value\"].to_numpy()\n",
    "y_test  = df_test[\"median_house_value\"].to_numpy()"
   ]
  },
  {
   "cell_type": "code",
   "execution_count": 4,
   "id": "09fe3dce",
   "metadata": {},
   "outputs": [],
   "source": [
    "from sklearn.model_selection import train_test_split\n",
    "y = df[\"median_house_value\"] # labels\n",
    "X = df.drop(columns=[\"median_house_value\"]) # input data\n",
    "X_train, X_test, y_train, y_test = train_test_split(X, y, test_size=0.33, random_state=42)"
   ]
  },
  {
   "cell_type": "code",
   "execution_count": 5,
   "id": "613643ea",
   "metadata": {},
   "outputs": [
    {
     "data": {
      "text/html": [
       "<div>\n",
       "<style scoped>\n",
       "    .dataframe tbody tr th:only-of-type {\n",
       "        vertical-align: middle;\n",
       "    }\n",
       "\n",
       "    .dataframe tbody tr th {\n",
       "        vertical-align: top;\n",
       "    }\n",
       "\n",
       "    .dataframe thead th {\n",
       "        text-align: right;\n",
       "    }\n",
       "</style>\n",
       "<table border=\"1\" class=\"dataframe\">\n",
       "  <thead>\n",
       "    <tr style=\"text-align: right;\">\n",
       "      <th></th>\n",
       "      <th>longitude</th>\n",
       "      <th>latitude</th>\n",
       "      <th>housing_median_age</th>\n",
       "      <th>total_rooms</th>\n",
       "      <th>total_bedrooms</th>\n",
       "      <th>population</th>\n",
       "      <th>households</th>\n",
       "      <th>median_income</th>\n",
       "      <th>population_per_household</th>\n",
       "      <th>rooms_per_household</th>\n",
       "      <th>bedrooms_per_room</th>\n",
       "      <th>ocean_proximity_&lt;1H OCEAN</th>\n",
       "      <th>ocean_proximity_INLAND</th>\n",
       "      <th>ocean_proximity_ISLAND</th>\n",
       "      <th>ocean_proximity_NEAR BAY</th>\n",
       "      <th>ocean_proximity_NEAR OCEAN</th>\n",
       "    </tr>\n",
       "  </thead>\n",
       "  <tbody>\n",
       "    <tr>\n",
       "      <th>5088</th>\n",
       "      <td>0.643716</td>\n",
       "      <td>-0.773361</td>\n",
       "      <td>-0.765917</td>\n",
       "      <td>-0.803424</td>\n",
       "      <td>-0.533722</td>\n",
       "      <td>-0.617660</td>\n",
       "      <td>-0.582062</td>\n",
       "      <td>-1.521075</td>\n",
       "      <td>-0.043300</td>\n",
       "      <td>-0.905868</td>\n",
       "      <td>2.156065</td>\n",
       "      <td>1</td>\n",
       "      <td>0</td>\n",
       "      <td>0</td>\n",
       "      <td>0</td>\n",
       "      <td>0</td>\n",
       "    </tr>\n",
       "    <tr>\n",
       "      <th>17096</th>\n",
       "      <td>-1.327803</td>\n",
       "      <td>0.855889</td>\n",
       "      <td>0.346470</td>\n",
       "      <td>0.003317</td>\n",
       "      <td>-0.173677</td>\n",
       "      <td>-0.362464</td>\n",
       "      <td>-0.189731</td>\n",
       "      <td>0.185559</td>\n",
       "      <td>-0.066782</td>\n",
       "      <td>0.307455</td>\n",
       "      <td>-0.586009</td>\n",
       "      <td>0</td>\n",
       "      <td>0</td>\n",
       "      <td>0</td>\n",
       "      <td>0</td>\n",
       "      <td>1</td>\n",
       "    </tr>\n",
       "    <tr>\n",
       "      <th>5617</th>\n",
       "      <td>0.653698</td>\n",
       "      <td>-0.862314</td>\n",
       "      <td>1.061575</td>\n",
       "      <td>-0.675538</td>\n",
       "      <td>-0.650558</td>\n",
       "      <td>-0.336856</td>\n",
       "      <td>-0.676222</td>\n",
       "      <td>-0.169422</td>\n",
       "      <td>0.121441</td>\n",
       "      <td>-0.245505</td>\n",
       "      <td>0.205376</td>\n",
       "      <td>1</td>\n",
       "      <td>0</td>\n",
       "      <td>0</td>\n",
       "      <td>0</td>\n",
       "      <td>0</td>\n",
       "    </tr>\n",
       "    <tr>\n",
       "      <th>20060</th>\n",
       "      <td>0.154579</td>\n",
       "      <td>0.111491</td>\n",
       "      <td>-0.368636</td>\n",
       "      <td>-0.479353</td>\n",
       "      <td>-0.350123</td>\n",
       "      <td>0.230050</td>\n",
       "      <td>-0.333586</td>\n",
       "      <td>-1.170516</td>\n",
       "      <td>0.140728</td>\n",
       "      <td>-0.466744</td>\n",
       "      <td>0.482602</td>\n",
       "      <td>0</td>\n",
       "      <td>1</td>\n",
       "      <td>0</td>\n",
       "      <td>0</td>\n",
       "      <td>0</td>\n",
       "    </tr>\n",
       "    <tr>\n",
       "      <th>895</th>\n",
       "      <td>-1.193041</td>\n",
       "      <td>0.893343</td>\n",
       "      <td>-1.163197</td>\n",
       "      <td>1.132297</td>\n",
       "      <td>1.597935</td>\n",
       "      <td>1.159000</td>\n",
       "      <td>1.591454</td>\n",
       "      <td>0.063284</td>\n",
       "      <td>-0.057725</td>\n",
       "      <td>-0.331705</td>\n",
       "      <td>0.346285</td>\n",
       "      <td>1</td>\n",
       "      <td>0</td>\n",
       "      <td>0</td>\n",
       "      <td>0</td>\n",
       "      <td>0</td>\n",
       "    </tr>\n",
       "    <tr>\n",
       "      <th>...</th>\n",
       "      <td>...</td>\n",
       "      <td>...</td>\n",
       "      <td>...</td>\n",
       "      <td>...</td>\n",
       "      <td>...</td>\n",
       "      <td>...</td>\n",
       "      <td>...</td>\n",
       "      <td>...</td>\n",
       "      <td>...</td>\n",
       "      <td>...</td>\n",
       "      <td>...</td>\n",
       "      <td>...</td>\n",
       "      <td>...</td>\n",
       "      <td>...</td>\n",
       "      <td>...</td>\n",
       "      <td>...</td>\n",
       "    </tr>\n",
       "    <tr>\n",
       "      <th>11284</th>\n",
       "      <td>0.803433</td>\n",
       "      <td>-0.866996</td>\n",
       "      <td>0.505382</td>\n",
       "      <td>-0.598530</td>\n",
       "      <td>-0.800776</td>\n",
       "      <td>-0.677706</td>\n",
       "      <td>-0.738995</td>\n",
       "      <td>1.315560</td>\n",
       "      <td>-0.003697</td>\n",
       "      <td>0.282936</td>\n",
       "      <td>-0.960430</td>\n",
       "      <td>1</td>\n",
       "      <td>0</td>\n",
       "      <td>0</td>\n",
       "      <td>0</td>\n",
       "      <td>0</td>\n",
       "    </tr>\n",
       "    <tr>\n",
       "      <th>11964</th>\n",
       "      <td>1.067966</td>\n",
       "      <td>-0.754634</td>\n",
       "      <td>0.346470</td>\n",
       "      <td>0.205461</td>\n",
       "      <td>0.079070</td>\n",
       "      <td>0.289213</td>\n",
       "      <td>-0.132189</td>\n",
       "      <td>-0.431973</td>\n",
       "      <td>0.080259</td>\n",
       "      <td>0.581850</td>\n",
       "      <td>-0.443985</td>\n",
       "      <td>0</td>\n",
       "      <td>1</td>\n",
       "      <td>0</td>\n",
       "      <td>0</td>\n",
       "      <td>0</td>\n",
       "    </tr>\n",
       "    <tr>\n",
       "      <th>5390</th>\n",
       "      <td>0.593804</td>\n",
       "      <td>-0.749952</td>\n",
       "      <td>0.584838</td>\n",
       "      <td>-0.245123</td>\n",
       "      <td>0.076685</td>\n",
       "      <td>0.291863</td>\n",
       "      <td>0.071824</td>\n",
       "      <td>-0.492820</td>\n",
       "      <td>0.025170</td>\n",
       "      <td>-0.582935</td>\n",
       "      <td>0.874037</td>\n",
       "      <td>1</td>\n",
       "      <td>0</td>\n",
       "      <td>0</td>\n",
       "      <td>0</td>\n",
       "      <td>0</td>\n",
       "    </tr>\n",
       "    <tr>\n",
       "      <th>860</th>\n",
       "      <td>-1.193041</td>\n",
       "      <td>0.912070</td>\n",
       "      <td>-1.083741</td>\n",
       "      <td>0.430524</td>\n",
       "      <td>0.143449</td>\n",
       "      <td>0.310406</td>\n",
       "      <td>0.155521</td>\n",
       "      <td>0.973001</td>\n",
       "      <td>0.010421</td>\n",
       "      <td>0.390575</td>\n",
       "      <td>-0.717278</td>\n",
       "      <td>1</td>\n",
       "      <td>0</td>\n",
       "      <td>0</td>\n",
       "      <td>0</td>\n",
       "      <td>0</td>\n",
       "    </tr>\n",
       "    <tr>\n",
       "      <th>15795</th>\n",
       "      <td>-1.422636</td>\n",
       "      <td>1.001024</td>\n",
       "      <td>1.856137</td>\n",
       "      <td>0.728926</td>\n",
       "      <td>1.855451</td>\n",
       "      <td>1.053919</td>\n",
       "      <td>1.941937</td>\n",
       "      <td>-0.681733</td>\n",
       "      <td>-0.092620</td>\n",
       "      <td>-0.819030</td>\n",
       "      <td>1.492377</td>\n",
       "      <td>0</td>\n",
       "      <td>0</td>\n",
       "      <td>0</td>\n",
       "      <td>1</td>\n",
       "      <td>0</td>\n",
       "    </tr>\n",
       "  </tbody>\n",
       "</table>\n",
       "<p>13828 rows × 16 columns</p>\n",
       "</div>"
      ],
      "text/plain": [
       "       longitude  latitude  housing_median_age  total_rooms  total_bedrooms  \\\n",
       "5088    0.643716 -0.773361           -0.765917    -0.803424       -0.533722   \n",
       "17096  -1.327803  0.855889            0.346470     0.003317       -0.173677   \n",
       "5617    0.653698 -0.862314            1.061575    -0.675538       -0.650558   \n",
       "20060   0.154579  0.111491           -0.368636    -0.479353       -0.350123   \n",
       "895    -1.193041  0.893343           -1.163197     1.132297        1.597935   \n",
       "...          ...       ...                 ...          ...             ...   \n",
       "11284   0.803433 -0.866996            0.505382    -0.598530       -0.800776   \n",
       "11964   1.067966 -0.754634            0.346470     0.205461        0.079070   \n",
       "5390    0.593804 -0.749952            0.584838    -0.245123        0.076685   \n",
       "860    -1.193041  0.912070           -1.083741     0.430524        0.143449   \n",
       "15795  -1.422636  1.001024            1.856137     0.728926        1.855451   \n",
       "\n",
       "       population  households  median_income  population_per_household  \\\n",
       "5088    -0.617660   -0.582062      -1.521075                 -0.043300   \n",
       "17096   -0.362464   -0.189731       0.185559                 -0.066782   \n",
       "5617    -0.336856   -0.676222      -0.169422                  0.121441   \n",
       "20060    0.230050   -0.333586      -1.170516                  0.140728   \n",
       "895      1.159000    1.591454       0.063284                 -0.057725   \n",
       "...           ...         ...            ...                       ...   \n",
       "11284   -0.677706   -0.738995       1.315560                 -0.003697   \n",
       "11964    0.289213   -0.132189      -0.431973                  0.080259   \n",
       "5390     0.291863    0.071824      -0.492820                  0.025170   \n",
       "860      0.310406    0.155521       0.973001                  0.010421   \n",
       "15795    1.053919    1.941937      -0.681733                 -0.092620   \n",
       "\n",
       "       rooms_per_household  bedrooms_per_room  ocean_proximity_<1H OCEAN  \\\n",
       "5088             -0.905868           2.156065                          1   \n",
       "17096             0.307455          -0.586009                          0   \n",
       "5617             -0.245505           0.205376                          1   \n",
       "20060            -0.466744           0.482602                          0   \n",
       "895              -0.331705           0.346285                          1   \n",
       "...                    ...                ...                        ...   \n",
       "11284             0.282936          -0.960430                          1   \n",
       "11964             0.581850          -0.443985                          0   \n",
       "5390             -0.582935           0.874037                          1   \n",
       "860               0.390575          -0.717278                          1   \n",
       "15795            -0.819030           1.492377                          0   \n",
       "\n",
       "       ocean_proximity_INLAND  ocean_proximity_ISLAND  \\\n",
       "5088                        0                       0   \n",
       "17096                       0                       0   \n",
       "5617                        0                       0   \n",
       "20060                       1                       0   \n",
       "895                         0                       0   \n",
       "...                       ...                     ...   \n",
       "11284                       0                       0   \n",
       "11964                       1                       0   \n",
       "5390                        0                       0   \n",
       "860                         0                       0   \n",
       "15795                       0                       0   \n",
       "\n",
       "       ocean_proximity_NEAR BAY  ocean_proximity_NEAR OCEAN  \n",
       "5088                          0                           0  \n",
       "17096                         0                           1  \n",
       "5617                          0                           0  \n",
       "20060                         0                           0  \n",
       "895                           0                           0  \n",
       "...                         ...                         ...  \n",
       "11284                         0                           0  \n",
       "11964                         0                           0  \n",
       "5390                          0                           0  \n",
       "860                           0                           0  \n",
       "15795                         1                           0  \n",
       "\n",
       "[13828 rows x 16 columns]"
      ]
     },
     "execution_count": 5,
     "metadata": {},
     "output_type": "execute_result"
    }
   ],
   "source": [
    "X_train"
   ]
  },
  {
   "cell_type": "code",
   "execution_count": 6,
   "id": "456e291b",
   "metadata": {},
   "outputs": [
    {
     "data": {
      "text/plain": [
       "5088     121400.0\n",
       "17096    363700.0\n",
       "5617     205600.0\n",
       "20060     47600.0\n",
       "895      236000.0\n",
       "           ...   \n",
       "11284    229200.0\n",
       "11964     97800.0\n",
       "5390     222100.0\n",
       "860      283500.0\n",
       "15795    325000.0\n",
       "Name: median_house_value, Length: 13828, dtype: float64"
      ]
     },
     "execution_count": 6,
     "metadata": {},
     "output_type": "execute_result"
    }
   ],
   "source": [
    "y_train"
   ]
  },
  {
   "cell_type": "markdown",
   "id": "90facd0d",
   "metadata": {},
   "source": [
    "Apply linear regression to forecast housing values"
   ]
  },
  {
   "cell_type": "code",
   "execution_count": 7,
   "id": "805e7157",
   "metadata": {},
   "outputs": [
    {
     "name": "stdout",
     "output_type": "stream",
     "text": [
      "70532.346029265\n"
     ]
    },
    {
     "data": {
      "text/plain": [
       "<AxesSubplot:>"
      ]
     },
     "execution_count": 7,
     "metadata": {},
     "output_type": "execute_result"
    },
    {
     "data": {
      "image/png": "[encoded data removed]",
      "text/plain": [
       "<Figure size 432x288 with 1 Axes>"
      ]
     },
     "metadata": {
      "needs_background": "light"
     },
     "output_type": "display_data"
    }
   ],
   "source": [
    "from sklearn.linear_model import LinearRegression\n",
    "lin_reg = LinearRegression() # initialize the model\n",
    "lin_reg.fit(X_train, y_train) # train it\n",
    "housing_predictions = lin_reg.predict(X_test) # predict the cost of houses in the test set\n",
    "lin_mse = mean_squared_error(y_test, housing_predictions) # check the error\n",
    "lin_rmse = np.sqrt(lin_mse)\n",
    "print(lin_rmse) # print it\n",
    "\n",
    "df = pd.DataFrame({'y_test': y_test[:10].to_numpy(), 'y_pred': housing_predictions[:10]}, index=[x for x in range(10)])\n",
    "df.plot.bar(rot=0)"
   ]
  },
  {
   "cell_type": "markdown",
   "id": "428764a9",
   "metadata": {},
   "source": [
    "This is better than nothing, but clearly not a great score: most districts’ `median_housing_values` range between 120K USD and  265K USD, so a typical prediction error of ~70K USD is not very satisfying. This is an example of a model underfitting the training\n",
    "data."
   ]
  },
  {
   "cell_type": "code",
   "execution_count": 8,
   "id": "109abc76",
   "metadata": {},
   "outputs": [
    {
     "name": "stdout",
     "output_type": "stream",
     "text": [
      "50155.05753085368\n"
     ]
    },
    {
     "data": {
      "image/png": "[encoded data removed]",
      "text/plain": [
       "<Figure size 432x288 with 1 Axes>"
      ]
     },
     "metadata": {
      "needs_background": "light"
     },
     "output_type": "display_data"
    }
   ],
   "source": [
    "from sklearn.ensemble import RandomForestRegressor\n",
    "\n",
    "def run_forest(n_estimators, max_features):\n",
    "    forest_reg = RandomForestRegressor(n_estimators=n_estimators, max_features=max_features, random_state=42) # initialize the model\n",
    "    forest_reg.fit(X_train, y_train) # train it\n",
    "    housing_predictions = forest_reg.predict(X_test) # predict the cost of houses in the test set\n",
    "    forest_rmse = mean_squared_error(y_test, housing_predictions, squared=True) # check the error\n",
    "    forest_rmse = np.sqrt(forest_rmse)\n",
    "    print(forest_rmse)\n",
    "    df = pd.DataFrame({'y_test': y_test[:10].to_numpy(), 'y_pred': housing_predictions[:10]}, index=[x for x in range(10)])\n",
    "    df.plot.bar(rot=0)\n",
    "    return forest_reg\n",
    "forest_reg = run_forest(100, \"auto\")"
   ]
  },
  {
   "cell_type": "markdown",
   "id": "847f5256",
   "metadata": {},
   "source": [
    "Look at parameters used by our current forest"
   ]
  },
  {
   "cell_type": "code",
   "execution_count": 9,
   "id": "f0235826",
   "metadata": {},
   "outputs": [
    {
     "data": {
      "text/plain": [
       "{'bootstrap': True,\n",
       " 'ccp_alpha': 0.0,\n",
       " 'criterion': 'mse',\n",
       " 'max_depth': None,\n",
       " 'max_features': 'auto',\n",
       " 'max_leaf_nodes': None,\n",
       " 'max_samples': None,\n",
       " 'min_impurity_decrease': 0.0,\n",
       " 'min_impurity_split': None,\n",
       " 'min_samples_leaf': 1,\n",
       " 'min_samples_split': 2,\n",
       " 'min_weight_fraction_leaf': 0.0,\n",
       " 'n_estimators': 100,\n",
       " 'n_jobs': None,\n",
       " 'oob_score': False,\n",
       " 'random_state': 42,\n",
       " 'verbose': 0,\n",
       " 'warm_start': False}"
      ]
     },
     "execution_count": 9,
     "metadata": {},
     "output_type": "execute_result"
    }
   ],
   "source": [
    "forest_reg.get_params()"
   ]
  },
  {
   "cell_type": "code",
   "execution_count": 10,
   "id": "8d94f505",
   "metadata": {
    "scrolled": true
   },
   "outputs": [
    {
     "name": "stdout",
     "output_type": "stream",
     "text": [
      "Fitting 3 folds for each of 6 candidates, totalling 18 fits\n"
     ]
    },
    {
     "name": "stderr",
     "output_type": "stream",
     "text": [
      "/usr/local/lib/python3.8/site-packages/sklearn/model_selection/_search.py:285: UserWarning: The total space of parameters 6 is smaller than n_iter=10. Running 6 iterations. For exhaustive searches, use GridSearchCV.\n",
      "  warnings.warn(\n"
     ]
    },
    {
     "name": "stdout",
     "output_type": "stream",
     "text": [
      "[CV] END .................max_features=auto, n_estimators=50; total time=   3.3s\n",
      "[CV] END .................max_features=auto, n_estimators=50; total time=   3.1s\n",
      "[CV] END .................max_features=auto, n_estimators=50; total time=   3.2s\n",
      "[CV] END ................max_features=auto, n_estimators=100; total time=   6.4s\n",
      "[CV] END ................max_features=auto, n_estimators=100; total time=   6.2s\n",
      "[CV] END ................max_features=auto, n_estimators=100; total time=   6.3s\n",
      "[CV] END ................max_features=auto, n_estimators=150; total time=   9.7s\n",
      "[CV] END ................max_features=auto, n_estimators=150; total time=   9.7s\n",
      "[CV] END ................max_features=auto, n_estimators=150; total time=   9.6s\n",
      "[CV] END .................max_features=sqrt, n_estimators=50; total time=   1.0s\n",
      "[CV] END .................max_features=sqrt, n_estimators=50; total time=   1.0s\n",
      "[CV] END .................max_features=sqrt, n_estimators=50; total time=   1.0s\n",
      "[CV] END ................max_features=sqrt, n_estimators=100; total time=   2.0s\n",
      "[CV] END ................max_features=sqrt, n_estimators=100; total time=   2.0s\n",
      "[CV] END ................max_features=sqrt, n_estimators=100; total time=   2.0s\n",
      "[CV] END ................max_features=sqrt, n_estimators=150; total time=   3.0s\n",
      "[CV] END ................max_features=sqrt, n_estimators=150; total time=   3.0s\n",
      "[CV] END ................max_features=sqrt, n_estimators=150; total time=   3.0s\n"
     ]
    },
    {
     "data": {
      "text/plain": [
       "{'n_estimators': 150, 'max_features': 'sqrt'}"
      ]
     },
     "execution_count": 10,
     "metadata": {},
     "output_type": "execute_result"
    }
   ],
   "source": [
    "from sklearn.model_selection import RandomizedSearchCV \n",
    "# Number of trees in random forest\n",
    "n_estimators = [50, 100, 150]\n",
    "# Number of features to consider at every split\n",
    "max_features = ['auto', 'sqrt']\n",
    "random_grid = {'n_estimators': n_estimators, 'max_features': max_features}\n",
    "\n",
    "# Fit the random search model\n",
    "rf_random = RandomizedSearchCV(estimator = forest_reg, param_distributions = random_grid, cv = 3, verbose=2, random_state=42)\n",
    "rf_random.fit(X_train, y_train)\n",
    "rf_random.best_params_"
   ]
  },
  {
   "cell_type": "code",
   "execution_count": 11,
   "id": "f40f18a9",
   "metadata": {},
   "outputs": [
    {
     "name": "stdout",
     "output_type": "stream",
     "text": [
      "49157.78470502036\n"
     ]
    },
    {
     "data": {
      "text/plain": [
       "RandomForestRegressor(max_features='sqrt', n_estimators=150, random_state=42)"
      ]
     },
     "execution_count": 11,
     "metadata": {},
     "output_type": "execute_result"
    },
    {
     "data": {
      "image/png": "[encoded data removed]",
      "text/plain": [
       "<Figure size 432x288 with 1 Axes>"
      ]
     },
     "metadata": {
      "needs_background": "light"
     },
     "output_type": "display_data"
    }
   ],
   "source": [
    "run_forest(150, \"sqrt\")"
   ]
  },
  {
   "cell_type": "markdown",
   "id": "7d65e48c",
   "metadata": {},
   "source": [
    "#### Classification\n",
    "\n",
    "- Create classes (low, medium, high) from the target value\n",
    "- Create and fit a decision tree"
   ]
  },
  {
   "cell_type": "code",
   "execution_count": 12,
   "id": "f16c0883",
   "metadata": {},
   "outputs": [
    {
     "data": {
      "text/plain": [
       "<AxesSubplot:>"
      ]
     },
     "execution_count": 12,
     "metadata": {},
     "output_type": "execute_result"
    },
    {
     "data": {
      "image/png": "[encoded data removed]",
      "text/plain": [
       "<Figure size 432x288 with 1 Axes>"
      ]
     },
     "metadata": {
      "needs_background": "light"
     },
     "output_type": "display_data"
    }
   ],
   "source": [
    "df = preprocess(False) # clean the dataset withtout standardization\n",
    "# df[\"median_house_value\"].hist()\n",
    "bins = [\"low\", \"medium\", \"high\"]\n",
    "df[\"median_house_value\"] = pd.cut(df[\"median_house_value\"], 3, labels=bins)\n",
    "df[\"median_house_value\"].hist()"
   ]
  },
  {
   "cell_type": "code",
   "execution_count": 13,
   "id": "f6a910d0",
   "metadata": {},
   "outputs": [
    {
     "data": {
      "text/plain": [
       "0.7842043452730476"
      ]
     },
     "execution_count": 13,
     "metadata": {},
     "output_type": "execute_result"
    }
   ],
   "source": [
    "from sklearn.metrics import accuracy_score\n",
    "from sklearn import tree\n",
    "\n",
    "y = df[\"median_house_value\"] # labels\n",
    "X = df[[\"latitude\", \"longitude\", \"median_income\"]] # consider only some features from the train dataset\n",
    "X_train, X_test, y_train, y_test = train_test_split(X, y, test_size=0.33, random_state=42) # split the dataset\n",
    "\n",
    "clf = tree.DecisionTreeClassifier(criterion=\"entropy\", random_state=42) # initialize the model\n",
    "clf = clf.fit(X_train, y_train) # train it\n",
    "housing_predictions = clf.predict(X_test) # predict the cost of houses in the test set\n",
    "accuracy = accuracy_score(y_test, housing_predictions) # check the error\n",
    "accuracy"
   ]
  },
  {
   "cell_type": "code",
   "execution_count": 14,
   "id": "0a816a7f",
   "metadata": {},
   "outputs": [
    {
     "name": "stdout",
     "output_type": "stream",
     "text": [
      "              precision    recall  f1-score   support\n",
      "\n",
      "         low       0.70      0.72      0.71       958\n",
      "      medium       0.85      0.87      0.86      3303\n",
      "        high       0.73      0.70      0.72      2551\n",
      "\n",
      "    accuracy                           0.78      6812\n",
      "   macro avg       0.76      0.76      0.76      6812\n",
      "weighted avg       0.78      0.78      0.78      6812\n",
      "\n"
     ]
    }
   ],
   "source": [
    "from sklearn.metrics import classification_report\n",
    "print(classification_report(y_test, housing_predictions, target_names=bins))"
   ]
  },
  {
   "cell_type": "code",
   "execution_count": 15,
   "id": "017f3c68",
   "metadata": {
    "scrolled": true
   },
   "outputs": [
    {
     "data": {
      "image/png": "[encoded data removed]",
      "text/plain": [
       "<Figure size 1440x864 with 1 Axes>"
      ]
     },
     "metadata": {
      "needs_background": "light"
     },
     "output_type": "display_data"
    }
   ],
   "source": [
    "plt.figure(figsize=(20,12))\n",
    "tree.plot_tree(clf, fontsize=10, feature_names = X_train.columns, class_names=bins, max_depth=3)\n",
    "plt.show()"
   ]
  }
 ],
 "metadata": {
  "kernelspec": {
   "display_name": "Python 3 (ipykernel)",
   "language": "python",
   "name": "python3"
  },
  "language_info": {
   "codemirror_mode": {
    "name": "ipython",
    "version": 3
   },
   "file_extension": ".py",
   "mimetype": "text/x-python",
   "name": "python",
   "nbconvert_exporter": "python",
   "pygments_lexer": "ipython3",
   "version": "3.8.11"
  }
 },
 "nbformat": 4,
 "nbformat_minor": 5
}
