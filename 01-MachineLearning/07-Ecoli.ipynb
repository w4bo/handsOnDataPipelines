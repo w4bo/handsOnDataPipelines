{
 "cells": [
  {
   "cell_type": "markdown",
   "id": "bdf0bf68",
   "metadata": {},
   "source": [
    "# The `Ecoli` challenge\n",
    "\n",
    "### Goal\n",
    "\n",
    "It is your job to predict the `SITE` label. \n",
    "\n",
    "### TODO\n",
    "\n",
    "You are allowed to use `numpy`, `pandas`, `matplotlib`, `sns`, and `sk-learn` Python libraries. You can import any model from `sk-learn`.\n",
    "\n",
    "You are asked to fulfill the following steps; remember to write your insights on the dataset in the card below.\n",
    "\n",
    "1. Feature pre-processing (e.g., remove useless features, impute missing values, encode some features)\n",
    "2. Verify the distribution of \"Outcome\" values\n",
    "3. Check pairwise correlations among features\n",
    "4. Split training and test data. When splitting train and test datasets, the test dataset should contain 30% of the data.\n",
    "5. Plot the training dataset in 2D, are the outcomes separated?\n",
    "6. Train at least two ML classification models; submissions are evaluated using the accuracy score.\n",
    "7. Perform hyperparameter optimization for at least one model"
   ]
  },
  {
   "cell_type": "code",
   "execution_count": 1,
   "id": "f1afca47",
   "metadata": {},
   "outputs": [],
   "source": [
    "# Briefly explain *HERE* the overall steps of your solution (e.g., what did you do and why).\n",
    "# Briefly write the extracted outcome/insights of each of the previous points here. "
   ]
  }
 ],
 "metadata": {
  "kernelspec": {
   "display_name": "Python 3 (ipykernel)",
   "language": "python",
   "name": "python3"
  },
  "language_info": {
   "codemirror_mode": {
    "name": "ipython",
    "version": 3
   },
   "file_extension": ".py",
   "mimetype": "text/x-python",
   "name": "python",
   "nbconvert_exporter": "python",
   "pygments_lexer": "ipython3",
   "version": "3.10.5"
  }
 },
 "nbformat": 4,
 "nbformat_minor": 5
}
